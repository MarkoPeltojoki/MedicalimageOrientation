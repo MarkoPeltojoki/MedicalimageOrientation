{
 "cells": [
  {
   "cell_type": "markdown",
   "metadata": {},
   "source": [
    "# Improving Data Quality in Medical Imaging using Custom Vision - Training images\n",
    "\n",
    "## MPP AI Capstone\n",
    "\n",
    "The data files for the Capstone are found here after registration and log in. \n",
    "https://www.datasciencecapstone.org/competitions/8/ct-scans/page/26/\n",
    "\n",
    "Extract the Capstone files in the same directory as this Jupyter Notebook and You are ready to go.\n",
    "\n",
    "## Custom Vision init\n",
    "\n",
    "https://customvision.ai\n",
    "\n",
    "Documentation:\n",
    "\n",
    "https://docs.microsoft.com/en-us/azure/opbuildpdf/cognitive-services/Custom-Vision-Service/toc.pdf?branch=live\n",
    "\n",
    "\n",
    "To use the tutorial, you need to do the following: \n",
    "- Install either Python 2.7+ or Python 3.5+. \n",
    "- Install pip. \n",
    "- Install Git.\n",
    "\n",
    "To build this example, you need to install the Preview Python SDK for the Custom Vision API from GitHub as follows:\n",
    "\n",
    "pip install azure-cognitiveservices-vision-customvision\n",
    "\n",
    "\n",
    "If you encounter a Filename too long error, make sure you have longpath support in Git enabled:\n",
    "\n",
    "git config --system core.longpaths true\n",
    "\n",
    "\n",
    "### Initializing the Custom Vision pipe and creating a new project\n"
   ]
  },
  {
   "cell_type": "code",
   "execution_count": 1,
   "metadata": {
    "collapsed": false
   },
   "outputs": [
    {
     "name": "stdout",
     "output_type": "stream",
     "text": [
      "Creating project...\n",
      "Project created!\n"
     ]
    }
   ],
   "source": [
    "from azure.cognitiveservices.vision.customvision.training import training_api \n",
    "from azure.cognitiveservices.vision.customvision.training.models import ImageUrlCreateEntry\n",
    "\n",
    "# Replace with a valid key \n",
    "# Obtain your training and prediction key by signing in to Custom Vision Service and going to your account settings. \n",
    "\n",
    "training_key = \"d673b5ebb5e9453ebe212f948a472ac0\" \n",
    "\n",
    "# Prediction key is used later and provided just before usage\n",
    "# prediction_key = \"84b7316448e948eaa65fbba6360c7f78\"\n",
    "\n",
    "trainer = training_api.TrainingApi(training_key)\n",
    "\n",
    "# Create a new project\n",
    "\n",
    "print (\"Creating project...\") \n",
    "project = trainer.create_project(\"MPP AI CS2 API1\")\n",
    "print (\"Project created!\")\n"
   ]
  },
  {
   "cell_type": "markdown",
   "metadata": {},
   "source": [
    "### Adding tags"
   ]
  },
  {
   "cell_type": "code",
   "execution_count": 2,
   "metadata": {
    "collapsed": true
   },
   "outputs": [],
   "source": [
    "# Make tags in the new project\n",
    "\n",
    "or0_tag = trainer.create_tag(project.id, \"orientation0\") \n",
    "or1_tag = trainer.create_tag(project.id, \"orientation1\")\n",
    "or2_tag = trainer.create_tag(project.id, \"orientation2\")\n",
    "or3_tag = trainer.create_tag(project.id, \"orientation3\")\n"
   ]
  },
  {
   "cell_type": "markdown",
   "metadata": {},
   "source": [
    "### Sorting images"
   ]
  },
  {
   "cell_type": "code",
   "execution_count": 3,
   "metadata": {
    "collapsed": false
   },
   "outputs": [],
   "source": [
    "import os\n",
    "import pandas as pd\n",
    "import shutil as sh\n",
    "import numpy as np\n",
    "import matplotlib.pyplot as plt\n",
    "\n",
    "%matplotlib inline\n",
    "\n",
    "# Creating subfolders\n",
    "\n",
    "train_dir= \"train\"\n",
    "\n",
    "or0_dir = \"train\\\\orientation0\"\n",
    "\n",
    "if not os.path.exists(or0_dir):\n",
    "    os.makedirs(or0_dir)\n",
    "\n",
    "or1_dir = \"train\\\\orientation1\"\n",
    "\n",
    "if not os.path.exists(or1_dir):\n",
    "    os.makedirs(or1_dir)\n",
    "\n",
    "or2_dir = \"train\\\\orientation2\"\n",
    "\n",
    "if not os.path.exists(or2_dir):\n",
    "    os.makedirs(or2_dir)\n",
    "\n",
    "or3_dir = \"train\\\\orientation3\"\n",
    "\n",
    "if not os.path.exists(or3_dir):\n",
    "    os.makedirs(or3_dir)\n",
    "\n",
    "    \n",
    "# Reading labels\n",
    "    \n",
    "labels = pd.read_csv(\"train_labels.csv\", header=0, dtype=str)\n",
    "# print(labels)\n",
    "\n",
    "# Sorting files by label\n",
    "\n",
    "or0_labels = (labels[labels.orientation == \"0\"])\n",
    "or0_files = (or0_labels.id + \".png\")\n",
    "# print(or0_files)\n",
    "\n",
    "or1_labels = (labels[labels.orientation == \"1\"])\n",
    "or1_files = (or1_labels.id + \".png\")\n",
    "# print(or1_files)\n",
    "\n",
    "or2_labels = (labels[labels.orientation == \"2\"])\n",
    "or2_files = (or2_labels.id + \".png\")\n",
    "# print(or2_files)\n",
    "\n",
    "or3_labels = (labels[labels.orientation == \"3\"])\n",
    "or3_files = (or3_labels.id + \".png\")\n",
    "# print(or3_files)\n",
    "\n",
    "\n",
    "# Copying files by label to subfolders\n",
    "\n",
    "for files in or0_files:\n",
    "    sh.copy2(train_dir + \"\\\\\" + files, or0_dir)\n",
    "    \n",
    "for files in or1_files:\n",
    "    sh.copy2(train_dir + \"\\\\\" + files, or1_dir)\n",
    "    \n",
    "for files in or2_files:\n",
    "    sh.copy2(train_dir + \"\\\\\" + files, or2_dir)\n",
    "    \n",
    "for files in or3_files:\n",
    "    sh.copy2(train_dir + \"\\\\\" + files, or3_dir)\n",
    "    \n"
   ]
  },
  {
   "cell_type": "markdown",
   "metadata": {},
   "source": [
    "### Uploading images"
   ]
  },
  {
   "cell_type": "code",
   "execution_count": 4,
   "metadata": {
    "collapsed": false
   },
   "outputs": [
    {
     "name": "stderr",
     "output_type": "stream",
     "text": [
      "C:\\Users\\markopel\\AppData\\Local\\Continuum\\Anaconda3\\lib\\site-packages\\ipykernel\\__main__.py:12: DeprecationWarning: The Windows bytes API has been deprecated, use Unicode filenames instead\n",
      "C:\\Users\\markopel\\AppData\\Local\\Continuum\\Anaconda3\\lib\\site-packages\\ipykernel\\__main__.py:16: DeprecationWarning: The Windows bytes API has been deprecated, use Unicode filenames instead\n",
      "C:\\Users\\markopel\\AppData\\Local\\Continuum\\Anaconda3\\lib\\site-packages\\ipykernel\\__main__.py:20: DeprecationWarning: The Windows bytes API has been deprecated, use Unicode filenames instead\n",
      "C:\\Users\\markopel\\AppData\\Local\\Continuum\\Anaconda3\\lib\\site-packages\\ipykernel\\__main__.py:24: DeprecationWarning: The Windows bytes API has been deprecated, use Unicode filenames instead\n"
     ]
    }
   ],
   "source": [
    "import os\n",
    "import pandas as pd\n",
    "import shutil as sh\n",
    "\n",
    "# Then image uploading, this might take a while, upto 1 hour with 4000 images\n",
    "train_dir= \"train\"\n",
    "or0_dir = \"train\\\\orientation0\"\n",
    "or1_dir = \"train\\\\orientation1\"\n",
    "or2_dir = \"train\\\\orientation2\"\n",
    "or3_dir = \"train\\\\orientation3\"\n",
    "\n",
    "for image in os.listdir(os.fsencode(or0_dir)): \n",
    "    with open(or0_dir + \"\\\\\" + os.fsdecode(image), mode=\"rb\") as img_data:\n",
    "        trainer.create_images_from_data(project.id, img_data.read(), [ or0_tag.id ])\n",
    "\n",
    "for image in os.listdir(os.fsencode(or1_dir)): \n",
    "    with open(or1_dir + \"\\\\\" + os.fsdecode(image), mode=\"rb\") as img_data:\n",
    "        trainer.create_images_from_data(project.id, img_data.read(), [ or1_tag.id ])\n",
    "\n",
    "for image in os.listdir(os.fsencode(or2_dir)): \n",
    "    with open(or2_dir + \"\\\\\" + os.fsdecode(image), mode=\"rb\") as img_data:\n",
    "        trainer.create_images_from_data(project.id, img_data.read(), [ or2_tag.id ])\n",
    "\n",
    "for image in os.listdir(os.fsencode(or3_dir)): \n",
    "    with open(or3_dir + \"\\\\\" + os.fsdecode(image), mode=\"rb\") as img_data:\n",
    "        trainer.create_images_from_data(project.id, img_data.read(), [ or3_tag.id ])\n"
   ]
  },
  {
   "cell_type": "markdown",
   "metadata": {},
   "source": [
    "### Training\n",
    "\n",
    "First iteration in the project, mark as default iteration"
   ]
  },
  {
   "cell_type": "code",
   "execution_count": 5,
   "metadata": {
    "collapsed": false
   },
   "outputs": [
    {
     "name": "stdout",
     "output_type": "stream",
     "text": [
      "Training...\n",
      "Training status: Training\n",
      "Training status: Training\n",
      "Training status: Training\n",
      "Training status: Training\n",
      "Training status: Training\n",
      "Training status: Training\n",
      "Training status: Training\n",
      "Training status: Training\n",
      "Training status: Training\n",
      "Training status: Training\n",
      "Training status: Training\n",
      "Training status: Training\n",
      "Training status: Training\n",
      "Training status: Training\n",
      "Training status: Training\n",
      "Training status: Training\n",
      "Training status: Training\n",
      "Training status: Training\n",
      "Training status: Training\n",
      "Training status: Training\n",
      "Training status: Training\n",
      "Training status: Training\n",
      "Training status: Training\n",
      "Training status: Training\n",
      "Training status: Training\n",
      "Training status: Training\n",
      "Training status: Training\n",
      "Training status: Training\n",
      "Training status: Training\n",
      "Training status: Training\n",
      "Training status: Training\n",
      "Training status: Training\n",
      "Training status: Training\n",
      "Training status: Training\n",
      "Training status: Training\n",
      "Training status: Training\n",
      "Training status: Training\n",
      "Training status: Training\n",
      "Training status: Training\n",
      "Training status: Training\n",
      "Training status: Training\n",
      "Training status: Training\n",
      "Training status: Training\n",
      "Training status: Training\n",
      "Training status: Training\n",
      "Training status: Training\n",
      "Training status: Training\n",
      "Training status: Training\n",
      "Training status: Training\n",
      "Training status: Training\n",
      "Training status: Training\n",
      "Training status: Training\n",
      "Training status: Training\n",
      "Training status: Training\n",
      "Training status: Training\n",
      "Training status: Training\n",
      "Training status: Training\n",
      "Training status: Training\n",
      "Training status: Training\n",
      "Training status: Training\n",
      "Training status: Training\n",
      "Training status: Training\n",
      "Training status: Training\n",
      "Training status: Training\n",
      "Training status: Training\n",
      "Training status: Training\n",
      "Training status: Training\n",
      "Training status: Training\n",
      "Training status: Training\n",
      "Training status: Training\n",
      "Training status: Training\n",
      "Training status: Training\n",
      "Training status: Training\n",
      "Training status: Training\n",
      "Training status: Training\n",
      "Training status: Training\n",
      "Training status: Training\n",
      "Training status: Training\n",
      "Training status: Training\n",
      "Training status: Training\n",
      "Training status: Training\n",
      "Training status: Training\n",
      "Training status: Training\n",
      "Training status: Completed\n",
      "Done!\n"
     ]
    }
   ],
   "source": [
    "import time\n",
    "\n",
    "print (\"Training...\") \n",
    "iteration = trainer.train_project(project.id) \n",
    "while (iteration.status != \"Completed\"):\n",
    "    iteration = trainer.get_iteration(project.id, iteration.id)\n",
    "    print (\"Training status: \" + iteration.status)\n",
    "    time.sleep(1)\n",
    "\n",
    "# The iteration is now trained. Make it the default project endpoint\n",
    "\n",
    "trainer.update_iteration(project.id, iteration.id, is_default=True)\n",
    "print (\"Done!\")"
   ]
  },
  {
   "cell_type": "markdown",
   "metadata": {},
   "source": [
    "### Testing 1st run (then use separate TestingImages notebook)"
   ]
  },
  {
   "cell_type": "code",
   "execution_count": 6,
   "metadata": {
    "collapsed": false
   },
   "outputs": [
    {
     "name": "stderr",
     "output_type": "stream",
     "text": [
      "C:\\Users\\markopel\\AppData\\Local\\Continuum\\Anaconda3\\lib\\site-packages\\ipykernel\\__main__.py:17: DeprecationWarning: The Windows bytes API has been deprecated, use Unicode filenames instead\n"
     ]
    },
    {
     "name": "stdout",
     "output_type": "stream",
     "text": [
      "Done testing, results in Predictions.csv\n"
     ]
    }
   ],
   "source": [
    "from azure.cognitiveservices.vision.customvision.prediction import prediction_endpoint \n",
    "from azure.cognitiveservices.vision.customvision.prediction.prediction_endpoint import models\n",
    "\n",
    "prediction_key = \"84b7316448e948eaa65fbba6360c7f78\"\n",
    "predictor = prediction_endpoint.PredictionEndpoint(prediction_key)\n",
    "\n",
    "\n",
    "# Open the sample image and get back the prediction results. \n",
    "# This might take some time, upto 15 min with 1000 images.\n",
    "# Write the results to file.\n",
    "\n",
    "with open(\"predictions.csv\",\"w\") as f:\n",
    "    f.write(\"id,pred0,pred1,pred2,pred3\\n\")\n",
    "\n",
    "test_dir = \"test\"\n",
    "\n",
    "for image in os.listdir(os.fsencode(test_dir)):\n",
    "    with open(test_dir + \"\\\\\" + os.fsdecode(image), mode=\"rb\") as test_data:\n",
    "        results = predictor.predict_image(project.id, test_data.read())\n",
    "        with open(\"predictions.csv\", \"a\") as f:\n",
    "            f.write(image.decode(\"utf-8\"))\n",
    "        for prediction in results.predictions:\n",
    "            with open(\"predictions.csv\",\"a\") as f:\n",
    "                f.write(\",\" + prediction.tag_name + \": {0:.2f}\\n\".format(prediction.probability))\n",
    "            \n",
    "print(\"Done testing, results in Predictions.csv\")"
   ]
  },
  {
   "cell_type": "code",
   "execution_count": null,
   "metadata": {
    "collapsed": true
   },
   "outputs": [],
   "source": []
  }
 ],
 "metadata": {
  "anaconda-cloud": {},
  "kernelspec": {
   "display_name": "Python [default]",
   "language": "python",
   "name": "python3"
  },
  "language_info": {
   "codemirror_mode": {
    "name": "ipython",
    "version": 3
   },
   "file_extension": ".py",
   "mimetype": "text/x-python",
   "name": "python",
   "nbconvert_exporter": "python",
   "pygments_lexer": "ipython3",
   "version": "3.5.2"
  }
 },
 "nbformat": 4,
 "nbformat_minor": 2
}
